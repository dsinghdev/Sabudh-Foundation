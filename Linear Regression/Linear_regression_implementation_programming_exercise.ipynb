{
  "nbformat": 4,
  "nbformat_minor": 0,
  "metadata": {
    "colab": {
      "provenance": []
    },
    "kernelspec": {
      "name": "python3",
      "display_name": "Python 3"
    },
    "language_info": {
      "name": "python"
    }
  },
  "cells": [
    {
      "cell_type": "markdown",
      "source": [
        "Name - Damandeep Singh\n",
        "       (Full Time)"
      ],
      "metadata": {
        "id": "EF1nMPcyQCUH"
      }
    },
    {
      "cell_type": "markdown",
      "source": [
        "question 1\n",
        "\n",
        "Write a function to generate an m+1 dimensional data set, of size n, consisting of m continuous independent\n",
        "variables (X) and one dependent variable (Y) defined as\n",
        "yi = xiβ + e\n",
        "where,\n",
        "• e is a Gaussuan distribution with mean 0 and standard deviation (σ), representing the unexplained\n",
        "variation in Y\n",
        "• β is a random vector of dimensionality m + 1, representing the coefficients of the linear relationship\n",
        "between X and Y, and\n",
        "• ∀i ∈ [1, n], xi0 = 1\n",
        "The function should take the following parameters:\n",
        "• σ: The spread of noise in the output variable\n",
        "• n: The size of the data set\n",
        "• m: The number of indepedent variables\n",
        "Output from the function should be:\n",
        "• X: An n × m numpy array of independent variable values (with a 1 in the first column)\n",
        "• Y : The n × 1 numpy array of output values\n",
        "• β: The random coefficients used to generatre Y from X"
      ],
      "metadata": {
        "id": "GbeEEZ84PwDF"
      }
    },
    {
      "cell_type": "code",
      "execution_count": null,
      "metadata": {
        "id": "aCDnPxWIPMU_"
      },
      "outputs": [],
      "source": [
        "import numpy as np\n",
        "import pandas as pd\n",
        "import matplotlib.pyplot as plt\n",
        "\n",
        "def generate_data(sigma,n,m):\n",
        "  # for generating value of X\n",
        "  x_ones=np.ones((n,1))       #for generating ones in the first column \n",
        "  x_rand=np.random.randn(n,m)   #for generating random number\n",
        "  X=np.concatenate((x_ones,x_rand),axis=1)      # concatenating ones and random number \n",
        "\n",
        "  #generating beta \n",
        "  beta=np.random.randn(m+1,1)\n",
        "\n",
        "  #generating e\n",
        "  e=np.random.normal(0,sigma,(n,1))\n",
        "\n",
        "  #generating value of Y\n",
        "  Y=np.dot(X,beta) + e\n",
        "\n",
        "  return X,Y,beta\n",
        "\n",
        "X,Y,beta=generate_data(0.1,100000,3)\n"
      ]
    },
    {
      "cell_type": "code",
      "source": [],
      "metadata": {
        "id": "wc53h3sGWrPG"
      },
      "execution_count": null,
      "outputs": []
    },
    {
      "cell_type": "markdown",
      "source": [
        "question 2\n",
        "\n",
        "Write a function that learns the parameters of a linear regression line given inputs\n",
        "• X: An n × m numpy array of independent variable values\n",
        "• Y : The n × 1 numpy array of output values\n",
        "• k: the number of iteractions (epochs)\n",
        "• τ : the threshold on change in Cost function value from the previous to current iteration\n",
        "The function should implement the Gradient Descent algorithm as discussed in class that initialises β with\n",
        "random values and then updates these values in each iteraction by moving in the the direction defined by\n",
        "the partial derivative of the cost function with respect to each of the coefficients. The function should use\n",
        "only one loop that ends after a number of iterations (k) or a threshold on the change in cost function value\n",
        "(τ ).\n",
        "The output should be an m + 1 dimensional vector of coefficients and the final cost function value."
      ],
      "metadata": {
        "id": "rupUVcA3P6is"
      }
    },
    {
      "cell_type": "code",
      "source": [
        "def linear_regression(X,Y,k,t):\n",
        "  beta= np.random.randn(X.shape[1],1)\n",
        "  m=X.shape[1]\n",
        "  cost_prev=np.inf\n",
        "  alpha=0.1    #learning rate \n",
        "  for epoches in range(k):\n",
        "\n",
        "    #forward pass \n",
        "    y_hat=np.matmul(X,beta)\n",
        "    \n",
        "    # mean squared error \n",
        "    loss=y_hat-Y       #predicted value - actual value \n",
        "    loss_transpose=(y_hat-Y).T\n",
        "    cost_fun = np.dot(loss_transpose,loss)/(2*(X.shape[0]))\n",
        "\n",
        "\n",
        "    if abs(cost_fun-cost_prev)<t:    #thresold value\n",
        "            break\n",
        "    cost_prev=cost_fun\n",
        "    \n",
        "    #backward pass \n",
        "    gradient = np.dot(X.T,(y_hat - Y))/(X.shape[0])                #dL/dw\n",
        "    beta = beta - alpha*gradient \n",
        "  return beta,cost_fun[0][0]\n",
        "  \n",
        "linear_regression(X,Y,1000,0.005)"
      ],
      "metadata": {
        "colab": {
          "base_uri": "https://localhost:8080/"
        },
        "id": "wzLbcUkRZzGk",
        "outputId": "db20175c-2ce3-4df2-e3be-929374b991b6"
      },
      "execution_count": null,
      "outputs": [
        {
          "output_type": "execute_result",
          "data": {
            "text/plain": [
              "(array([[ 0.0292152 ],\n",
              "        [-1.06254811],\n",
              "        [ 0.94695805],\n",
              "        [ 0.68585369]]), 0.022590888864952863)"
            ]
          },
          "metadata": {},
          "execution_count": 3
        }
      ]
    },
    {
      "cell_type": "markdown",
      "source": [
        "Question 3\n",
        "\n",
        "Create a report investigating how differen values of n and σ impact the ability for your linear regression\n",
        "function to learn the coefficients, β, used to generate the output vector Y ."
      ],
      "metadata": {
        "id": "_V2IwKzgQMhY"
      }
    },
    {
      "cell_type": "code",
      "source": [
        "n=[100,500,1000,1500,5000,10000]    #different sample values \n",
        "sigma=[0.01,0.5,1.5,2.5,3,4]         #different sigma values \n",
        "\n",
        "\n",
        "#plot 1\n",
        "cost=[]\n",
        "for i in n:\n",
        "  X,Y,beta=generate_data(1.8,i,5)\n",
        "  new_beta,cost_=linear_regression(X,Y,1000,0.05)\n",
        "  cost.append(cost_)\n",
        "\n",
        "plt.xlabel(\"sample\")\n",
        "plt.ylabel('cost')\n",
        "plt.title('cost vs sample')\n",
        "plt.plot(n,cost)\n",
        "plt.show()\n",
        "plt.close()\n",
        "\n",
        "\n",
        "#plot 2\n",
        "cost=[]\n",
        "for i in sigma:\n",
        "  X,Y,beta=generate_data(i,1000,5)\n",
        "  new_beta,cost_=linear_regression(X,Y,1000,0.05)\n",
        "  cost.append(cost_)\n",
        "\n",
        "plt.xlabel(\"sigma\")\n",
        "plt.ylabel('cost')\n",
        "plt.title('cost vs sigma')\n",
        "plt.plot(cost,sigma)\n",
        "plt.show()\n",
        "plt.close()\n",
        "\n",
        "\n"
      ],
      "metadata": {
        "colab": {
          "base_uri": "https://localhost:8080/",
          "height": 573
        },
        "id": "lCyiq6cEjopm",
        "outputId": "4deb334a-e971-4b89-c6e3-8fd990d8994e"
      },
      "execution_count": null,
      "outputs": [
        {
          "output_type": "display_data",
          "data": {
            "text/plain": [
              "<Figure size 432x288 with 1 Axes>"
            ],
            "image/png": "[encoded data removed]"
          },
          "metadata": {
            "needs_background": "light"
          }
        },
        {
          "output_type": "display_data",
          "data": {
            "text/plain": [
              "<Figure size 432x288 with 1 Axes>"
            ],
            "image/png": "[encoded data removed]"
          },
          "metadata": {
            "needs_background": "light"
          }
        }
      ]
    },
    {
      "cell_type": "markdown",
      "source": [],
      "metadata": {
        "id": "1VCFrDwUzmFT"
      }
    },
    {
      "cell_type": "markdown",
      "source": [],
      "metadata": {
        "id": "1ZZwzFwy0hEk"
      }
    }
  ]
}
